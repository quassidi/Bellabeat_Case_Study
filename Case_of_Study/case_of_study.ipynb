{
 "cells": [
  {
   "cell_type": "markdown",
   "id": "24a25f91",
   "metadata": {},
   "source": [
    "## Bellabeat Case Study"
   ]
  },
  {
   "cell_type": "markdown",
   "id": "0f00a9dd",
   "metadata": {},
   "source": [
    "### Context\n",
    "\n",
    "This case of study is from the course [google data analytics](https://www.coursera.org/professional-certificates/google-data-analytics?) I'm going to develop the analysis with the Six Data Analysis Phases"
   ]
  },
  {
   "cell_type": "markdown",
   "id": "bf080212",
   "metadata": {},
   "source": [
    "#### About the company\n",
    "\n",
    "Urška Sršen and Sando Mur founded Bellabeat, a high-tech company that manufactures health-focused smart products.\n",
    "Sršen used her background as an artist to develop beautifully designed technology that informs and inspires women around\n",
    "the world. Collecting data on activity, sleep, stress, and reproductive health has allowed Bellabeat to empower women with\n",
    "knowledge about their own health and habits. Since it was founded in 2013, Bellabeat has grown rapidly and quickly\n",
    "positioned itself as a tech-driven wellness company for women."
   ]
  },
  {
   "cell_type": "markdown",
   "id": "f747257e",
   "metadata": {},
   "source": [
    "## 1. Ask"
   ]
  },
  {
   "cell_type": "markdown",
   "id": "9931cc2e",
   "metadata": {},
   "source": [
    "Sršen asks us to analyze smart device usage data in order to gain insight into how consumers use non-Bellabeat smart\n",
    "devices. She then wants you to select one Bellabeat product to apply these insights to in your presentation. These questions\n",
    "will guide your analysis:\n",
    "\n",
    "1. What are some trends in smart device usage?\n",
    "2. How could these trends apply to Bellabeat customers?\n",
    "3. How could these trends help influence Bellabeat marketing strategy?"
   ]
  },
  {
   "cell_type": "markdown",
   "id": "0aa60cd9",
   "metadata": {},
   "source": [
    "#### Business Task\n",
    "\n",
    "The keys stakeholders ask for new trends for their marketing strategy and for this task they want to know how non-Bellabeat users use their smart device"
   ]
  },
  {
   "cell_type": "markdown",
   "id": "cda38f88",
   "metadata": {},
   "source": [
    "#### Key Stakeholders\n",
    "\n",
    "**Urška Sršen:** Bellabeat's co-founder and Chief Creative Oﬃcer\n",
    "\n",
    "**Sando Mur:** Mathematician and Bellabeat's co-founder; key member of the Bellabeat executive team\n",
    "\n",
    "**Bellabeat marketing analytics team:** A team of data analysts responsible for collecting, analyzing, and reporting data that helps guide Bellabeat's marketing strategy."
   ]
  },
  {
   "cell_type": "markdown",
   "id": "8dff12b7",
   "metadata": {},
   "source": [
    "## 2. Prepare"
   ]
  },
  {
   "cell_type": "markdown",
   "id": "bf3aa41d",
   "metadata": {},
   "source": [
    "Sršen encourages you to use public data that explores smart device users’ daily habits. She points you to a specific data set:\n",
    "\n",
    " - [FitBit Fitness Tracker Data](https://www.kaggle.com/datasets/arashnic/fitbit) (CC0: Public Domain, dataset made available through Mobius): This Kaggle data set\n",
    "  contains personal fitness tracker from thirty fitbit users. Thirty eligible Fitbit users consented to the submission of\n",
    "  personal tracker data, including minute-level output for physical activity, heart rate, and sleep monitoring. It includes\n",
    "  information about daily activity, steps, and heart rate that can be used to explore users’ habits.\n",
    "  Sršen tells you that this data set might have some limitations, and encourages you to consider adding another data to help\n",
    "  address those limitations as you begin to work more with this data.\n",
    "\n",
    "*Key tasks*\n",
    "\n",
    "  1. Download data and store it appropriately.\n",
    "      - The data is open source and is available on Kaggle:[FitBit Fitness Tracker Data](https://www.kaggle.com/datasets/arashnic/fitbit), I downloaded it and make backup of it\n",
    "  2. Identify how it’s organized.\n",
    "      - The data consist of 18 csv files and includes physical activity, heart rate, sleep monitoring, daily activity, steps and Calories burned"
   ]
  },
  {
   "cell_type": "code",
   "execution_count": 1,
   "id": "dd5be1d6",
   "metadata": {
    "kernel": "R",
    "tags": [
     "report_cell"
    ]
   },
   "outputs": [],
   "source": [
    "library(readr)"
   ]
  },
  {
   "cell_type": "code",
   "execution_count": 2,
   "id": "974a1b1b",
   "metadata": {
    "kernel": "R",
    "tags": [
     "report_cell"
    ]
   },
   "outputs": [],
   "source": [
    "dailyActivity_merged <-read_csv(\"../Raw_data/dailyActivity_merged.csv\", show_col_types = FALSE)\n",
    "dailyCalories_merged <-read_csv(\"../Raw_data/dailyCalories_merged.csv\", show_col_types = FALSE)\n",
    "dailyIntensities_merged <-read_csv(\"../Raw_data/dailyIntensities_merged.csv\", show_col_types = FALSE)\n",
    "dailySteps_merged <-read_csv(\"../Raw_data/dailySteps_merged.csv\", show_col_types = FALSE)\n",
    "heartrate_seconds_merged <-read_csv(\"../Raw_data/heartrate_seconds_merged.csv\", show_col_types = FALSE)\n",
    "hourlyCalories_merged <-read_csv(\"../Raw_data/hourlyCalories_merged.csv\", show_col_types = FALSE)\n",
    "hourlyIntensities_merged <-read_csv(\"../Raw_data/hourlyIntensities_merged.csv\", show_col_types = FALSE)\n",
    "hourlySteps_merged <-read_csv(\"../Raw_data/hourlySteps_merged.csv\", show_col_types = FALSE)\n",
    "minuteCaloriesNarrow_merged <-read_csv(\"../Raw_data/minuteCaloriesNarrow_merged.csv\", show_col_types = FALSE)\n",
    "minuteCaloriesWide_merged <-read_csv(\"../Raw_data/minuteCaloriesWide_merged.csv\", show_col_types = FALSE)\n",
    "minuteIntensitiesNarrow_merged <-read_csv(\"../Raw_data/minuteIntensitiesNarrow_merged.csv\", show_col_types = FALSE)\n",
    "minuteIntensitiesWide_merged <-read_csv(\"../Raw_data/minuteIntensitiesWide_merged.csv\", show_col_types = FALSE)\n",
    "minuteMETsNarrow_merged <-read_csv(\"../Raw_data/minuteMETsNarrow_merged.csv\", show_col_types = FALSE)\n",
    "minuteSleep_merged <-read_csv(\"../Raw_data/minuteSleep_merged.csv\", show_col_types = FALSE)\n",
    "minuteStepsNarrow_merged <-read_csv(\"../Raw_data/minuteStepsNarrow_merged.csv\", show_col_types = FALSE)\n",
    "minuteStepsWide_merged <-read_csv(\"../Raw_data/minuteStepsWide_merged.csv\", show_col_types = FALSE)\n",
    "sleepDay_merged <-read_csv(\"../Raw_data/sleepDay_merged.csv\", show_col_types = FALSE)\n",
    "weightLogInfo_merged <-read_csv(\"../Raw_data/weightLogInfo_merged.csv\", show_col_types = FALSE)"
   ]
  },
  {
   "cell_type": "markdown",
   "id": "619db3c2",
   "metadata": {},
   "source": [
    "3. Sort and filter the data."
   ]
  },
  {
   "cell_type": "code",
   "execution_count": 3,
   "id": "eb93a00c",
   "metadata": {
    "Rmd_chunk_options": "message=FALSE",
    "kernel": "R",
    "tags": [
     "report_cell"
    ]
   },
   "outputs": [],
   "source": [
    "library(dplyr)"
   ]
  },
  {
   "cell_type": "code",
   "execution_count": 4,
   "id": "2a3227c8",
   "metadata": {
    "kernel": "R",
    "tags": [
     "report_cell"
    ]
   },
   "outputs": [],
   "source": [
    "over2000=filter(dailyActivity_merged,Calories>=2000)\n",
    "head(over2000)"
   ]
  },
  {
   "cell_type": "code",
   "execution_count": 5,
   "id": "a83ff9cd",
   "metadata": {
    "kernel": "R",
    "tags": [
     "report_cell"
    ]
   },
   "outputs": [],
   "source": [
    "length(unique(dailyActivity_merged$Id))"
   ]
  },
  {
   "cell_type": "markdown",
   "id": "fae409f8",
   "metadata": {},
   "source": [
    "4. Determine the credibility of the data.\n",
    "    A good data source is ROCCC which stands for Reliable, Original, Comprehensive, Current, and Cited.\n",
    "      - Reliable - LOW - Not reliable as it only has 30 respondents\n",
    "      - Original - LOW - Third party provider (Amazon Mechanical Turk)\n",
    "      - Comprehensive - MED - Parameters match most of Bellabeat's products' parameters\n",
    "      - Current - LOW - Data is 5 years old and is not relevant\n",
    "      - Cited - LOW - Data collected from third party, hence unknown"
   ]
  },
  {
   "cell_type": "markdown",
   "id": "8365ce1e",
   "metadata": {},
   "source": [
    "## 3. Process"
   ]
  },
  {
   "cell_type": "markdown",
   "id": "caff7f7f",
   "metadata": {},
   "source": [
    "Key tasks\n",
    "\n",
    "  1. Check the data for errors.\n",
    "\n",
    "     Finding duplicates values"
   ]
  },
  {
   "cell_type": "code",
   "execution_count": 6,
   "id": "a2f25578",
   "metadata": {
    "kernel": "R",
    "tags": [
     "report_cell"
    ]
   },
   "outputs": [],
   "source": [
    "sum(duplicated(dailyActivity_merged))\n",
    "sum(duplicated(dailyCalories_merged))\n",
    "sum(duplicated(dailyIntensities_merged))\n",
    "sum(duplicated(dailySteps_merged))\n",
    "sum(duplicated(heartrate_seconds_merged))\n",
    "sum(duplicated(hourlyCalories_merged))\n",
    "sum(duplicated(hourlyIntensities_merged))\n",
    "sum(duplicated(hourlySteps_merged))\n",
    "sum(duplicated(minuteCaloriesNarrow_merged))\n",
    "sum(duplicated(minuteCaloriesWide_merged))\n",
    "sum(duplicated(minuteIntensitiesNarrow_merged))\n",
    "sum(duplicated(minuteIntensitiesWide_merged))\n",
    "sum(duplicated(minuteMETsNarrow_merged))\n",
    "sum(duplicated(minuteSleep_merged))\n",
    "sum(duplicated(minuteStepsNarrow_merged))\n",
    "sum(duplicated(minuteStepsWide_merged))\n",
    "sum(duplicated(sleepDay_merged))\n",
    "sum(duplicated(weightLogInfo_merged))"
   ]
  },
  {
   "cell_type": "markdown",
   "id": "d7a12261",
   "metadata": {},
   "source": [
    "Looking for missing values"
   ]
  },
  {
   "cell_type": "code",
   "execution_count": 7,
   "id": "ca49a2d4",
   "metadata": {
    "kernel": "R",
    "tags": [
     "report_cell"
    ]
   },
   "outputs": [],
   "source": [
    "sum(is.na(dailyActivity_merged))\n",
    "sum(is.na(dailyCalories_merged))\n",
    "sum(is.na(dailyIntensities_merged))\n",
    "sum(is.na(dailySteps_merged))\n",
    "sum(is.na(heartrate_seconds_merged))\n",
    "sum(is.na(hourlyCalories_merged))\n",
    "sum(is.na(hourlyIntensities_merged))\n",
    "sum(is.na(hourlySteps_merged))\n",
    "sum(is.na(minuteCaloriesNarrow_merged))\n",
    "sum(is.na(minuteCaloriesWide_merged))\n",
    "sum(is.na(minuteIntensitiesNarrow_merged))\n",
    "sum(is.na(minuteIntensitiesWide_merged))\n",
    "sum(is.na(minuteMETsNarrow_merged))\n",
    "sum(is.na(minuteSleep_merged))\n",
    "sum(is.na(minuteStepsNarrow_merged))\n",
    "sum(is.na(minuteStepsWide_merged))\n",
    "sum(is.na(sleepDay_merged))\n",
    "sum(is.na(weightLogInfo_merged))"
   ]
  },
  {
   "cell_type": "code",
   "execution_count": 8,
   "id": "b03fa5c5",
   "metadata": {
    "kernel": "R",
    "tags": [
     "report_cell"
    ]
   },
   "outputs": [],
   "source": [
    "library(DT)"
   ]
  },
  {
   "cell_type": "code",
   "execution_count": 9,
   "id": "77555ecd",
   "metadata": {
    "kernel": "R",
    "tags": [
     "report_cell"
    ]
   },
   "outputs": [],
   "source": [
    "sample_dataduplicated_on_minuteSleep_merged = filter(minuteSleep_merged,date==\"5/6/2016 9:11:00 PM\")"
   ]
  },
  {
   "cell_type": "code",
   "execution_count": 10,
   "id": "0d047a1a",
   "metadata": {
    "kernel": "R",
    "tags": [
     "report_cell"
    ]
   },
   "outputs": [],
   "source": [
    "datatable(sample_dataduplicated_on_minuteSleep_merged)"
   ]
  },
  {
   "cell_type": "code",
   "execution_count": 11,
   "id": "33515968",
   "metadata": {
    "kernel": "R",
    "tags": [
     "report_cell"
    ]
   },
   "outputs": [],
   "source": [
    "sample_dataduplicated_on_sleepDay_merged = filter(sleepDay_merged,SleepDay==\"5/5/2016 12:00:00 AM\")"
   ]
  },
  {
   "cell_type": "code",
   "execution_count": 12,
   "id": "23c81244",
   "metadata": {
    "kernel": "R",
    "tags": [
     "report_cell"
    ]
   },
   "outputs": [],
   "source": [
    "datatable(sample_dataduplicated_on_minuteSleep_merged)"
   ]
  },
  {
   "cell_type": "code",
   "execution_count": 13,
   "id": "ca2caee7",
   "metadata": {
    "kernel": "R",
    "tags": [
     "report_cell"
    ]
   },
   "outputs": [],
   "source": [
    "datatable(weightLogInfo_merged)"
   ]
  },
  {
   "cell_type": "markdown",
   "id": "e41d317b",
   "metadata": {},
   "source": [
    "2. Choose your tools."
   ]
  },
  {
   "cell_type": "code",
   "execution_count": 14,
   "id": "77a60dcf",
   "metadata": {
    "Rmd_chunk_options": "message=FALSE",
    "kernel": "R",
    "tags": [
     "report_cell"
    ]
   },
   "outputs": [],
   "source": [
    "library(tidyverse)\n",
    "  library(skimr)\n",
    "  library(ggplot2)\n",
    "  library(janitor)\n",
    "  library(timelineR)\n",
    "  library(lubridate)"
   ]
  },
  {
   "cell_type": "markdown",
   "id": "ab9e8407",
   "metadata": {},
   "source": [
    "3. Transform the data so you can work with it effectively."
   ]
  },
  {
   "cell_type": "code",
   "execution_count": 15,
   "id": "dbd7cc7f",
   "metadata": {
    "kernel": "R",
    "tags": [
     "report_cell"
    ]
   },
   "outputs": [],
   "source": [
    "sleepDay_merged_clean = sleepDay_merged[!duplicated(sleepDay_merged), ]"
   ]
  },
  {
   "cell_type": "code",
   "execution_count": 16,
   "id": "20aa84b3",
   "metadata": {
    "kernel": "R",
    "tags": [
     "report_cell"
    ]
   },
   "outputs": [],
   "source": [
    "minuteSleep_merged_clean = minuteSleep_merged[!duplicated(minuteSleep_merged), ]"
   ]
  },
  {
   "cell_type": "code",
   "execution_count": 17,
   "id": "384aa34b",
   "metadata": {
    "kernel": "R",
    "tags": [
     "report_cell"
    ]
   },
   "outputs": [],
   "source": [
    "weightLogInfo_merged_clean <- weightLogInfo_merged %>%\n",
    "  mutate(Fat = coalesce(Fat, 0))"
   ]
  },
  {
   "cell_type": "code",
   "execution_count": 18,
   "id": "821bb8ef",
   "metadata": {
    "kernel": "R",
    "tags": [
     "report_cell"
    ]
   },
   "outputs": [],
   "source": [
    "# change ActivityDate type from chr to date\n",
    "#dailyActivity_merged_cleaned = mdy(dailyActivity_merged$Acti)"
   ]
  },
  {
   "cell_type": "markdown",
   "id": "6edcf25a",
   "metadata": {},
   "source": [
    "4. Document the cleaning\n",
    "\n",
    "I started the cleanup by looking for duplicates in all datasets, and found that in minuteSleep_merged are 543 rows duplicates and in the sleepDay_merged are 3 rows duplicate i eliminate each duplicated row in both.\n",
    "\n",
    "Then i seeked for NA values and i found that in the dataset weightLogInfo_merged The users did not fill all the data and the column for fat has 65 values missing i change the value NA for 0."
   ]
  },
  {
   "cell_type": "markdown",
   "id": "e12fe39b",
   "metadata": {},
   "source": [
    "## 4 & 5 Analyze and Share"
   ]
  },
  {
   "cell_type": "markdown",
   "id": "b3bf4313",
   "metadata": {},
   "source": [
    "Now that the data is stored appropriately and has been prepared for analysis, start putting it to work. Use the following Case\n",
    "\n",
    "Walking is recognized as an easily accessible mode of physical activity and is therefore supported as a strategy to promote health and well-being.\n",
    "To complement walking, pedometers have been identified as a useful tool for monitoring ambulatory physical activity, typically measuring total steps/day."
   ]
  },
  {
   "cell_type": "code",
   "execution_count": 19,
   "id": "bdf98380",
   "metadata": {
    "kernel": "R",
    "tags": [
     "report_cell"
    ]
   },
   "outputs": [],
   "source": [
    "hist(dailyActivity_merged$Calories)"
   ]
  },
  {
   "cell_type": "code",
   "execution_count": 20,
   "id": "d80ffa11",
   "metadata": {
    "kernel": "R",
    "tags": [
     "report_cell"
    ]
   },
   "outputs": [],
   "source": [
    "hist(dailyActivity_merged$TotalSteps)"
   ]
  },
  {
   "cell_type": "code",
   "execution_count": 21,
   "id": "dd1c55d5",
   "metadata": {
    "kernel": "R",
    "tags": [
     "report_cell"
    ]
   },
   "outputs": [],
   "source": [
    "ggplot(data=dailyActivity_merged, aes(x=TotalDistance, y=Calories)) +\n",
    "  geom_point() + geom_smooth() + labs(title=\"Total Distance vs. Calories\")"
   ]
  },
  {
   "cell_type": "code",
   "execution_count": 22,
   "id": "1b1e0e0c",
   "metadata": {
    "kernel": "R",
    "tags": [
     "report_cell"
    ]
   },
   "outputs": [],
   "source": [
    "ggplot(data=dailyActivity_merged, aes(x=TotalSteps, y=Calories )) +\n",
    "  geom_point() + geom_smooth() + labs(title=\"Total Steps vs. Calories\")"
   ]
  },
  {
   "cell_type": "markdown",
   "id": "36afc52c",
   "metadata": {},
   "source": [
    "The intensity and duration of physical activity in pedometer-based messages relevance as expected the total Distance and total Steps of a user have a positive correlation with calories"
   ]
  },
  {
   "cell_type": "markdown",
   "id": "f1f2073d",
   "metadata": {},
   "source": [
    "## 6 Act"
   ]
  },
  {
   "cell_type": "markdown",
   "id": "530fcbbc",
   "metadata": {},
   "source": [
    "### Conclusion\n",
    "\n",
    "Based on our analysis, there is a positive correlation between the steps taken/distance walked and calories burned.\n",
    "Also, there is a positive relationship between the activity level and calories burned."
   ]
  },
  {
   "cell_type": "markdown",
   "id": "776115bf",
   "metadata": {},
   "source": [
    "### Recommendation:\n",
    "\n",
    "BellaBeat should incorporate a feature that challenges the user to improve their goal encourage customers to take more steps to burn calories the social media component could be really important\n",
    "The company should also group create daily goals personalized according to the user profile"
   ]
  }
 ],
 "metadata": {
  "Rmd_chunk_options": {
   "author": "Author [Daniel Méndez](https://github.com/quassidi)",
   "output": "html_document",
   "title": "Case of Study Google Data Analytics Professional Certificate"
  },
  "kernelspec": {
   "display_name": "R",
   "language": "R",
   "name": "ir"
  },
  "language_info": {
   "codemirror_mode": "r",
   "file_extension": ".r",
   "mimetype": "text/x-r-source",
   "name": "R",
   "pygments_lexer": "r",
   "version": "3.6.3"
  }
 },
 "nbformat": 4,
 "nbformat_minor": 5
}
